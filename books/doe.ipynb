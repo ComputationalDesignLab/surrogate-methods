{
 "cells": [
  {
   "cell_type": "markdown",
   "metadata": {},
   "source": [
    "#  Design of Experiments\n",
    "\n",
    "This section provides implementation for the concepts covered in the class for design of experiments.\n",
    "Each subsection contains various code blocks which provides python implementation for the concept. \n",
    "You are expected to create an empty jupyter notebook, and paste the code in the notebook and run it. \n",
    "This will teach you how to create notebooks from scratch and prepare you for workbook and homework \n",
    "assignments. Following topics are covered in this section:\n",
    "\n",
    "1. Full Factorial Sampling\n",
    "2. Latin Hypercube Sampling\n",
    "3. Space-filling Latin Hypercube Sampling\n",
    "\n",
    "> **_NOTE:_** You need to install [smt](https://smt.readthedocs.io/en/latest/) which is a python-based surrogate modeling toolbox. It provides various surrogate modeling techniques, along with different design of experiments. You can install it using `pip install smt`.\n",
    "\n",
    "## Full Factorial Sampling"
   ]
  },
  {
   "cell_type": "code",
   "execution_count": 1,
   "metadata": {},
   "outputs": [
    {
     "name": "stdout",
     "output_type": "stream",
     "text": [
      "(50, 2)\n"
     ]
    },
    {
     "data": {
      "image/png": "[encoded data removed]",
      "text/plain": [
       "<Figure size 640x480 with 1 Axes>"
      ]
     },
     "metadata": {},
     "output_type": "display_data"
    }
   ],
   "source": [
    "import numpy as np\n",
    "import matplotlib.pyplot as plt\n",
    "\n",
    "from smt.sampling_methods import FullFactorial\n",
    "\n",
    "xlimits = np.array([[0.0, 4.0], [0.0, 3.0]])\n",
    "sampling = FullFactorial(xlimits=xlimits)\n",
    "\n",
    "num = 50\n",
    "x = sampling(num)\n",
    "\n",
    "print(x.shape)\n",
    "\n",
    "plt.plot(x[:, 0], x[:, 1], \"o\")\n",
    "plt.xlabel(\"x\")\n",
    "plt.ylabel(\"y\")\n",
    "plt.show()"
   ]
  },
  {
   "cell_type": "markdown",
   "metadata": {},
   "source": [
    "## Latin Hypercube Sampling"
   ]
  },
  {
   "cell_type": "markdown",
   "metadata": {},
   "source": [
    "## Space-filling LHS"
   ]
  },
  {
   "cell_type": "code",
   "execution_count": null,
   "metadata": {},
   "outputs": [],
   "source": []
  }
 ],
 "metadata": {
  "kernelspec": {
   "display_name": "sm",
   "language": "python",
   "name": "python3"
  },
  "language_info": {
   "codemirror_mode": {
    "name": "ipython",
    "version": 3
   },
   "file_extension": ".py",
   "mimetype": "text/x-python",
   "name": "python",
   "nbconvert_exporter": "python",
   "pygments_lexer": "ipython3",
   "version": "3.9.18"
  }
 },
 "nbformat": 4,
 "nbformat_minor": 2
}
