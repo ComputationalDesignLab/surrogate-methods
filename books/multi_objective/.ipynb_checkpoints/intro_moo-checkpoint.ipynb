{
 "cells": [
  {
   "cell_type": "markdown",
   "id": "92b70e45-48d4-48c9-b807-8b42cc9ef0f2",
   "metadata": {},
   "source": [
    "# Multiobjective Optimization\n",
    "\n",
    "This section provides code implementations for the concepts covered in class for multiobjective optimization. Multiobjective optimization provides methods to solve optimization problems with multiple competing objectives. The application of these methods to simple analytical examples is also provided in this section. The multiobjective methods used in class and in this section of the Jupyter book are based on differential evolution (DE) covered earlier in the class. This section has the following two subsections:\n",
    "\n",
    "1. Multiobjective optimization using differential evolution\n",
    "2. Surrogate-based multiobjective optimization\n",
    "\n",
    "The code blocks below introduce the multiobjective optimization examples used in this section. The next code block imports the required packages for this section. "
   ]
  },
  {
   "cell_type": "code",
   "execution_count": 131,
   "id": "f76c3f24-6341-4fae-8619-99f03c7715da",
   "metadata": {},
   "outputs": [],
   "source": [
    "import numpy as np\n",
    "import matplotlib.pyplot as plt\n",
    "import matplotlib.colors as colors\n",
    "from smt.sampling_methods import LHS\n",
    "from pymoo.util.nds.non_dominated_sorting import NonDominatedSorting\n",
    "import pymoo.gradient.toolbox as anp\n",
    "from pymoo.core.problem import Problem"
   ]
  },
  {
   "cell_type": "markdown",
   "id": "6de8eb1d-4b5c-4cfe-b97f-8add60ba65d5",
   "metadata": {},
   "source": [
    "## Branin-Currin optimization problem\n",
    "\n",
    "The first example used in this section is an unconstrained multiobjective problem with two design variables and two objective functions. The two functions are the rescaled Branin function and the Currin function. The optimization problem statement is given as\n",
    "\n",
    "$$\n",
    "    \\begin{gathered}\n",
    "    \\min f(\\textbf{x}) = \\begin{cases} f_1(\\textbf{x}) = \\frac{1}{51.95}(( \\bar{x_2} - \\frac{5.1}{4\\pi^2} \\bar{x_1}^2 + \\frac{5}{\\pi}\\bar{x_1} - 6 )^2 + 10 ( 1-\\frac{1}{8\\pi} )\\cos \\bar{x_1} - 44.81) \\\\ \\\\ f_2(\\textbf{x}) = [1-\\exp(\\frac{-1}{2x_2})]\\frac{2300x_1^3+1900x_1^2+2092x_1+60}{100x_1^3+500x_1^2+4x_1+20} \\end{cases} \\\\\n",
    "    0.0 \\leq x_1, x_2 \\leq 1.0 \\\\\n",
    "    \\text{where} \\quad \\bar{x_1} = 15x_1 - 5, \\bar{x_2} = 15x_2\n",
    "    \\end{gathered}\n",
    "$$\n",
    "\n",
    "The block of code below defines the two functions. "
   ]
  },
  {
   "cell_type": "code",
   "execution_count": 132,
   "id": "71300dea-2434-4200-acad-00bd9ca9a777",
   "metadata": {},
   "outputs": [],
   "source": [
    "# Defining the objective functions\n",
    "def branin(x):\n",
    "\n",
    "    dim = x.ndim\n",
    "    if dim == 1:\n",
    "        x = x.reshape(1,-1)\n",
    "\n",
    "    x1 = 15*x[:,0] - 5\n",
    "    x2 = 15*x[:,1]\n",
    "\n",
    "    b = 5.1 / (4*np.pi**2)\n",
    "    c = 5 / np.pi\n",
    "    t = 1 / (8*np.pi)\n",
    "\n",
    "    y = (1/51.95)*((x2 - b*x1**2 + c*x1 - 6)**2 + 10*(1-t)*np.cos(x1) + 10 - 44.81)\n",
    "\n",
    "    if dim == 1:\n",
    "        y = y.reshape(-1)\n",
    "\n",
    "    return y\n",
    "\n",
    "def currin(x):\n",
    "\n",
    "    dim = x.ndim\n",
    "    if dim == 1:\n",
    "        x = x.reshape(1,-1)\n",
    "\n",
    "    x1 = x[:,0]\n",
    "    x2 = x[:,1]\n",
    "    \n",
    "    factor = 1 - np.exp(-1/(2*x2))\n",
    "    num = 2300*x1**3 + 1900*x1**2 + 2092*x1 + 60\n",
    "    den = 100*x1**3 + 500*x1**2 + 4*x1 + 20\n",
    "    y = factor*num/den\n",
    "    \n",
    "    if dim == 1:\n",
    "        y = y.reshape(-1)\n",
    "\n",
    "    return y"
   ]
  },
  {
   "cell_type": "markdown",
   "id": "f7890d7e-2d81-4536-be16-774fa44874f9",
   "metadata": {},
   "source": [
    "The next few code blocks will locate the Pareto front for the problem and plot the Pareto front in the objective space. The code block uses the non-dominated sorting algorithm of `pymoo` to find the non-dominated points in the objective space. The non-dominated points represent the Pareto front of the problem. The non-dominated sorting algorithm may not always perfectly provide all of the non-dominated points of the problem and it is a good idea to make sure that all the points provided are actually non-dominated solutions. It is also sometimes necessary to adjust the parameter `n_stop_if_ranked` which indicates approximately how many points should survive in the initial population of points at the end of the sorting algorithm. Raising or lowering this value can improve the representation of the Pareto front."
   ]
  },
  {
   "cell_type": "code",
   "execution_count": 133,
   "id": "f589a973-c019-4864-80b5-ee5195bcb07f",
   "metadata": {},
   "outputs": [],
   "source": [
    "# Generating a grid of points\n",
    "num_points = 100\n",
    "\n",
    "# Defining x and y values\n",
    "x = np.linspace(1e-6,1,num_points)\n",
    "y = np.linspace(1e-6,1,num_points)\n",
    "\n",
    "# Creating a mesh\n",
    "X, Y = np.meshgrid(x, y)\n",
    "\n",
    "# Finding the front through non-dominated sorting\n",
    "z1 = branin(np.hstack((X.reshape(-1,1),Y.reshape(-1,1))))\n",
    "z2 =  currin(np.hstack((X.reshape(-1,1),Y.reshape(-1,1))))\n",
    "nds = NonDominatedSorting()\n",
    "F = np.column_stack((z1,z2))\n",
    "pareto = nds.do(F, n_stop_if_ranked=50)"
   ]
  },
  {
   "cell_type": "code",
   "execution_count": 134,
   "id": "cd2c54aa-12e5-4e9e-82be-4789e9675f59",
   "metadata": {},
   "outputs": [
    {
     "data": {
      "text/plain": [
       "<matplotlib.legend.Legend at 0x7fc5bae139a0>"
      ]
     },
     "execution_count": 134,
     "metadata": {},
     "output_type": "execute_result"
    },
    {
     "data": {
      "image/png": "[encoded data removed]",
      "text/plain": [
       "<Figure size 800x600 with 1 Axes>"
      ]
     },
     "metadata": {},
     "output_type": "display_data"
    }
   ],
   "source": [
    "# Plotting the non-dominated solutions \n",
    "Z_pareto = F[pareto[0]]\n",
    "fig, ax = plt.subplots(1,1,figsize=(8,6))\n",
    "ax.scatter(Z_pareto[1:,0], Z_pareto[1:,1], color=\"red\", label=\"Pareto Front\")\n",
    "ax.set_xlabel(\"$f_1$\", fontsize=14)\n",
    "ax.set_ylabel(\"$f_2$\", fontsize=14)\n",
    "ax.grid()\n",
    "ax.legend(loc=\"upper right\", fontsize = 14)"
   ]
  },
  {
   "cell_type": "markdown",
   "id": "62eaee41-0d58-439f-8bdd-07a64176abed",
   "metadata": {},
   "source": [
    "The above plot shows the non-dominated solutions of the problem in the objective space. The curve passing through these points is the Pareto front of the problem. The Pareto front is convex in shape for this problem."
   ]
  },
  {
   "cell_type": "markdown",
   "id": "29281d5d-1ed1-4e98-94ee-5f19035c9641",
   "metadata": {},
   "source": [
    "## Constrained CTP1 optimization problem\n",
    "\n",
    "The second example used in this section is a constrained multiobjective problem with two design variables, two objective functions and two constraints. This optimization problem is from the CTP suite of test functions for multiobjective design. The optimization problem statement is given as\n",
    "\n",
    "$$\n",
    "    \\begin{gathered}\n",
    "    \\min f(\\textbf{x}) = \\begin{cases} f_1(\\textbf{x}) = x_1 \\\\ f_2(\\textbf{x}) = (1+x_2)\\exp(-\\frac{x_1}{1+x_2}) \\end{cases} \\\\\n",
    "    \\textrm{subject to} \\quad g_1(\\textbf{x}) = 1 - \\frac{f_2(\\textbf{x})}{0.858\\exp(-0.541f_1(\\textbf{x}))} \\leq 0\\\\\n",
    "    g_2(\\textbf{x}) = 1 - \\frac{f_2(\\textbf{x})}{0.728\\exp(-0.295f_1(\\textbf{x}))} \\leq 0\\\\\n",
    "    0 \\leq x_1,x_2 \\leq 1\\\\\n",
    "    \\end{gathered}\n",
    "$$\n",
    "\n",
    "The block of code below defines the objective and constraint functions for the problem.  "
   ]
  },
  {
   "cell_type": "code",
   "execution_count": 135,
   "id": "addf747b-f7ac-4fe7-a0fd-78805b0d8296",
   "metadata": {},
   "outputs": [],
   "source": [
    "# Defining the objective functions\n",
    "def f1(x):\n",
    "    \n",
    "    dim = x.ndim\n",
    "    if dim == 1:\n",
    "        x = x.reshape(1,-1)\n",
    "\n",
    "    y = x[:,0]\n",
    "    return y\n",
    "    \n",
    "def f2(x):\n",
    "\n",
    "    dim = x.ndim\n",
    "    if dim == 1:\n",
    "        x = x.reshape(1,-1)\n",
    "\n",
    "    x1 = x[:,0]\n",
    "    x2 = x[:,1]\n",
    "\n",
    "    y = (1+x2)*np.exp(-x1/(1+x2))\n",
    "\n",
    "    return y\n",
    "\n",
    "def g1(x):\n",
    "    \n",
    "    dim = x.ndim\n",
    "    if dim == 1:\n",
    "        x = x.reshape(1,-1)\n",
    "    \n",
    "    F1 = f1(x)\n",
    "    F2 = f2(x)\n",
    "    \n",
    "    g = 1 - F2/(0.858*np.exp(-0.541*F1))\n",
    "\n",
    "    return g\n",
    "\n",
    "def g2(x):\n",
    "\n",
    "    dim = x.ndim\n",
    "    if dim == 1:\n",
    "        x = x.reshape(1,-1)\n",
    "    \n",
    "    F1 = f1(x)\n",
    "    F2 = f2(x)\n",
    "    \n",
    "    g = 1 - F2/(0.728*np.exp(-0.295*F1))\n",
    "\n",
    "    return g\n",
    "    "
   ]
  },
  {
   "cell_type": "markdown",
   "id": "0d8e44a5-2374-47b0-8ab4-c3b684829913",
   "metadata": {},
   "source": [
    "The code block below uses the non-dominated sorting algorithm of `pymoo` to find the non-dominated points in the objective space. The non-dominated points represent the Pareto front of the problem."
   ]
  },
  {
   "cell_type": "code",
   "execution_count": 153,
   "id": "27f1b1f8-1850-4cb5-9460-65470ceb5e9c",
   "metadata": {},
   "outputs": [],
   "source": [
    "# Generating an LHS sample plan\n",
    "sampler = LHS(xlimits=np.array( [[1e-6, 1.0], [1e-6, 1.0]] ), criterion='ese')\n",
    "\n",
    "# Training data\n",
    "num_sample = 1000 # Sampling a high number of points to make the process more accurate\n",
    "X = sampler(num_sample)\n",
    "\n",
    "# Evaluating the function values at meshpoints\n",
    "z1 = f1(X)\n",
    "z2 = f2(X)\n",
    "const1 = g1(X)\n",
    "const2 = g2(X)\n",
    "\n",
    "z1 = z1[(const1<0) & (const2<0)]\n",
    "z2 = z2[(const1<0) & (const2<0)]\n",
    "F = np.column_stack((z1,z2))\n",
    "pareto = nds.do(F, n_stop_if_ranked=800)\n",
    "Z_pareto = F[pareto[1]]"
   ]
  },
  {
   "cell_type": "code",
   "execution_count": 155,
   "id": "cf27bf57-0bbf-410e-9e28-c4fc150d36f2",
   "metadata": {},
   "outputs": [
    {
     "data": {
      "text/plain": [
       "<matplotlib.legend.Legend at 0x7fc5b8e8c2b0>"
      ]
     },
     "execution_count": 155,
     "metadata": {},
     "output_type": "execute_result"
    },
    {
     "data": {
      "image/png": "[encoded data removed]",
      "text/plain": [
       "<Figure size 800x600 with 1 Axes>"
      ]
     },
     "metadata": {},
     "output_type": "display_data"
    }
   ],
   "source": [
    "# Plotting the contours\n",
    "fig, ax = plt.subplots(1,1,figsize=(8,6))\n",
    "ax.scatter(Z_pareto[:,0], Z_pareto[:,1], color=\"red\", label=\"Pareto Front\")\n",
    "ax.set_xlabel(\"$f_1$\", fontsize=14)\n",
    "ax.set_ylabel(\"$f_2$\", fontsize=14)\n",
    "ax.grid()\n",
    "ax.legend(loc=\"upper right\", fontsize = 14)"
   ]
  },
  {
   "cell_type": "markdown",
   "id": "c042ad77-7fdc-4e39-814e-f5bf34e485b8",
   "metadata": {},
   "source": [
    "The Pareto front for the 2D truss optimization problem is as shown above in the plot. The Pareto front for this problem is also convex."
   ]
  },
  {
   "cell_type": "markdown",
   "id": "f5b1454e-d3b8-450a-ac00-b4b9c128afb5",
   "metadata": {},
   "source": [
    "## Constrained TNK optimization problem\n",
    "\n",
    "The third and final example is another analytical multiobjective optimization problem. The suite of test functions are derived from a set of local adjustment and distance functions. The problem has two design variables, two objective functions and two constraints. Intrestingly, the two objective functions in this case are the two design variables themselves. The optimization problem statement is given as\n",
    "\n",
    "$$\n",
    "    \\begin{gathered}\n",
    "    \\min f(\\textbf{x}) = \\begin{cases} f_1(\\textbf{x}) = x_1 \\\\ f_2(\\textbf{x}) = x_2 \\end{cases} \\\\\n",
    "    \\textrm{subject to} \\quad g_1(\\textbf{x}) = -(x_1^2 + x_2^2) - 1 - 0.1\\cos(16\\arctan(\\frac{x_1}{x_2})) \\leq 0 \\\\\n",
    "    g_2(\\textbf{x}) = (x_1-0.5)^2 + (x_2-0.5)^2 - 0.5 \\leq 0\\\\\n",
    "    0.0 \\leq x_1,x_2 \\leq 1.0\n",
    "    \\end{gathered}\n",
    "$$\n",
    "\n",
    "The block of code below defines the objective and constraint functions for the problem. The code is adapted from the `pymoo` source code on GitHub."
   ]
  },
  {
   "cell_type": "code",
   "execution_count": 122,
   "id": "819bf58a-569e-4e22-9d7c-9825e4b8d129",
   "metadata": {},
   "outputs": [],
   "source": [
    "# Defining the objective functions\n",
    "def f1(x):\n",
    "\n",
    "    dim = x.ndim\n",
    "    if dim == 1:\n",
    "        x = x.reshape(1,-1)\n",
    "        \n",
    "    y = x[:,0]\n",
    "    \n",
    "    return y\n",
    "\n",
    "def f2(x):\n",
    "\n",
    "    dim = x.ndim\n",
    "    if dim == 1:\n",
    "        x = x.reshape(1,-1)\n",
    "        \n",
    "    y = x[:,1]\n",
    "    \n",
    "    return y\n",
    "\n",
    "# Defining the constraints\n",
    "def g1(x):\n",
    "\n",
    "    dim = x.ndim\n",
    "    if dim == 1:\n",
    "        x = x.reshape(1,-1)\n",
    "        \n",
    "    g = -(np.square(x[:, 0]) + np.square(x[:, 1]) - 1.0 - 0.1 * np.cos(16.0 * np.arctan(x[:, 0] / x[:, 1])))\n",
    "    \n",
    "    return g\n",
    "\n",
    "def g2(x):\n",
    "\n",
    "    dim = x.ndim\n",
    "    if dim == 1:\n",
    "        x = x.reshape(1,-1)\n",
    "        \n",
    "    g =  2 * (anp.square(x[:, 0] - 0.5) + anp.square(x[:, 1] - 0.5)) - 1\n",
    "\n",
    "    return g"
   ]
  },
  {
   "cell_type": "markdown",
   "id": "2c6060cc-3967-4a5c-a2f3-f38766118b5e",
   "metadata": {},
   "source": [
    "The block of code below will locate the Pareto front of the problem using the non-dominated sorting algorithm as done for the previous examples."
   ]
  },
  {
   "cell_type": "code",
   "execution_count": 123,
   "id": "3485162c-2b5d-4fe7-834f-655bc468d401",
   "metadata": {},
   "outputs": [],
   "source": [
    "# To accurately find the Pareto front through non-dominated sorting a LHS sampling will be used\n",
    "# The Pareto front of this problem has an interesting shape\n",
    "# Generating an LHS sample plan\n",
    "sampler = LHS(xlimits=np.array( [[1e-6, 1.0], [1e-6, 1.0]] ), criterion='ese')\n",
    "\n",
    "# Training data\n",
    "num_sample = 10000 # Sampling a high number of points to make the process more accurate\n",
    "X = sampler(num_sample)\n",
    "\n",
    "# Evaluating the function values at meshpoints\n",
    "z1 = f1(X)\n",
    "z2 = f2(X)\n",
    "const1 = g1(X)\n",
    "const2 = g2(X)\n",
    "\n",
    "z1 = z1[(const1<0) & (const2<0)]\n",
    "z2 = z2[(const1<0) & (const2<0)]\n",
    "F = np.column_stack((z1,z2))\n",
    "pareto = nds.do(F, n_stop_if_ranked=5000)\n",
    "Z_pareto = F[pareto[0]]"
   ]
  },
  {
   "cell_type": "code",
   "execution_count": 124,
   "id": "6e179ace-539e-40d6-9e95-d0d790a3a0e9",
   "metadata": {},
   "outputs": [
    {
     "data": {
      "text/plain": [
       "<matplotlib.legend.Legend at 0x7fc5baf05d60>"
      ]
     },
     "execution_count": 124,
     "metadata": {},
     "output_type": "execute_result"
    },
    {
     "data": {
      "image/png": "[encoded data removed]",
      "text/plain": [
       "<Figure size 800x600 with 1 Axes>"
      ]
     },
     "metadata": {},
     "output_type": "display_data"
    }
   ],
   "source": [
    "# Plotting the contours\n",
    "fig, ax = plt.subplots(1,1,figsize=(8,6))\n",
    "ax.scatter(Z_pareto[:,0], Z_pareto[:,1], color=\"red\", label=\"Pareto Front\")\n",
    "ax.set_xlabel(\"$f_1$\", fontsize=14)\n",
    "ax.set_ylabel(\"$f_2$\", fontsize=14)\n",
    "ax.grid()\n",
    "ax.legend(loc=\"upper right\", fontsize = 14)"
   ]
  },
  {
   "cell_type": "markdown",
   "id": "bacc00e5-4015-4aca-b1e7-4d2445c0c98c",
   "metadata": {},
   "source": [
    "The above plot shows the Pareto front for the TNK optimization problem that is found through non-dominated sorting. The Pareto front for this problem is complex and therefore, the non-dominated sorting algorithm required a large number of LHS samples to find a good representation of the front. The front has both convex and concave regions and also has discontinuities. The non-dominated sorting method is an inefficient way to find the Pareto front for this problem as it requires a large number of sampling points. In the next section, the non-dominated sorting differential evolution (NSDE) algorithm will be used to find the Pareto front.  "
   ]
  },
  {
   "cell_type": "code",
   "execution_count": null,
   "id": "2c583424-2b6d-4a75-a7e2-6045311d805d",
   "metadata": {},
   "outputs": [],
   "source": []
  }
 ],
 "metadata": {
  "kernelspec": {
   "display_name": "Python 3 (ipykernel)",
   "language": "python",
   "name": "python3"
  },
  "language_info": {
   "codemirror_mode": {
    "name": "ipython",
    "version": 3
   },
   "file_extension": ".py",
   "mimetype": "text/x-python",
   "name": "python",
   "nbconvert_exporter": "python",
   "pygments_lexer": "ipython3",
   "version": "3.9.19"
  }
 },
 "nbformat": 4,
 "nbformat_minor": 5
}
