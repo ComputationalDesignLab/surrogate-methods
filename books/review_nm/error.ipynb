{
 "cells": [
  {
   "cell_type": "markdown",
   "metadata": {},
   "source": [
    "# Error estimation for iterative method\n",
    "\n",
    "**Example**: Determine the number of terms necessary to approximate $cos(x)$ to 8 significant figures at $x = 0.3\\pi$ using the following Maclaurin series approximation.\n",
    "\n",
    "$$\n",
    "    cos(x) = 1 - \\frac{x^2}{2!} + \\frac{x^4}{4!} - \\frac{x^6}{6!} + \\frac{x^8}{8!} - ...\n",
    "$$\n",
    "\n",
    "Assume that you don't know the true value.\n",
    "\n",
    "**Solution**:\n",
    "\n",
    "To find whether an approximation is accurate upto $n$ significant figures, following formula can be used:\n",
    "\n",
    "$$\n",
    "    \\epsilon_s = (0.5 \\times 10^{2-n})\\%\n",
    "$$\n",
    "\n",
    "Note the percantage sign in the formula. To get 8 significant figures, error should be less than $\\epsilon_s = (5e-7)\\% \\text{ or } 5e-9$. We can compute the approximate error ($\\epsilon _a$) while we do the iterations and use $\\epsilon_s$ as a stopping criteria. The code in the next block implements this."
   ]
  },
  {
   "cell_type": "markdown",
   "metadata": {},
   "source": [
    "Before running code blocks in notebook, it is important to import all the required packages as shown below."
   ]
  },
  {
   "cell_type": "code",
   "execution_count": 9,
   "metadata": {},
   "outputs": [],
   "source": [
    "import math"
   ]
  },
  {
   "cell_type": "markdown",
   "metadata": {},
   "source": [
    "Following block of code defines two functions. First function is the Maclaurin series approximation of $cos(x)$ and the second function finds the number of terms required to approximate $cos(x)$ upto $n$ significant figures."
   ]
  },
  {
   "cell_type": "code",
   "execution_count": 10,
   "metadata": {},
   "outputs": [],
   "source": [
    "def maclaurin_cos(x, num):\n",
    "    \"\"\"\n",
    "        Function for computing maclaurin series approximation for cosine.\n",
    "        Input:\n",
    "        x - value at which cosine approximation is needed.\n",
    "        num - number of terms in the series (includes the leading 1).\n",
    "    \"\"\"\n",
    "    value = 0\n",
    "    \n",
    "    for i in range(num):\n",
    "        power = 2*i\n",
    "        value = value + (-1)**i * x**power / math.factorial(power)\n",
    "\n",
    "    return value\n",
    "\n",
    "def find_req_num_terms(func, x, num):\n",
    "    \"\"\"\n",
    "        Function to find number of terms needed to achieve \n",
    "        accuracy upto certain significant numbers.\n",
    "        \n",
    "        Input:\n",
    "        func - python function which computes a series\n",
    "        x - value of x at which approximation is required\n",
    "        num - number of significant figures required\n",
    "    \"\"\"\n",
    "    \n",
    "    # Tolerance for required significant figures\n",
    "    tolerance = 0.5*10**(2-num)\n",
    "    \n",
    "    # Performing 1st iteration\n",
    "    terms = 1\n",
    "    approx_value = maclaurin_cos(x, terms)\n",
    "    \n",
    "    # Initial value of error for starting the iteration\n",
    "    print(\"Number of terms: 1\")\n",
    "    print(\"Approx value: {}\".format(approx_value))\n",
    "    print(\"Approx errror: -\\n\")\n",
    "    approx_error = 1\n",
    "    \n",
    "    # Performing iterations\n",
    "    while abs(approx_error) >= tolerance:\n",
    "        # Increment the number of terms\n",
    "        terms += 1\n",
    "        \n",
    "        approx_error = approx_value\n",
    "        \n",
    "        # Calculate the approx value\n",
    "        approx_value = func(x, terms)\n",
    "        \n",
    "        # Calculate percentage approx error\n",
    "        approx_error = (approx_value - approx_error) / approx_value\n",
    "        approx_error *= 100\n",
    "        \n",
    "        # Printing\n",
    "        print(\"Number of terms: {}\".format(terms))\n",
    "        print(\"Approx value: {}\".format(approx_value))\n",
    "        print(\"Approx errror: {} %\\n\".format(abs(approx_error)))"
   ]
  },
  {
   "cell_type": "markdown",
   "metadata": {},
   "source": [
    "Once the functions are defined, you can run that function to get the answer (as shown below)."
   ]
  },
  {
   "cell_type": "code",
   "execution_count": 11,
   "metadata": {},
   "outputs": [
    {
     "name": "stdout",
     "output_type": "stream",
     "text": [
      "Number of terms: 1\n",
      "Approx value: 1.0\n",
      "Approx errror: -\n",
      "\n",
      "Number of terms: 2\n",
      "Approx value: 0.5558678019509788\n",
      "Approx errror: 79.89888899666624 %\n",
      "\n",
      "Number of terms: 3\n",
      "Approx value: 0.5887433701749547\n",
      "Approx errror: 5.5840235133699 %\n",
      "\n",
      "Number of terms: 4\n",
      "Approx value: 0.5877699636164597\n",
      "Approx errror: 0.1656101227945979 %\n",
      "\n",
      "Number of terms: 5\n",
      "Approx value: 0.5877854036591176\n",
      "Approx errror: 0.002626816277120294 %\n",
      "\n",
      "Number of terms: 6\n",
      "Approx value: 0.5877852512720046\n",
      "Approx errror: 2.592564420399015e-05 %\n",
      "\n",
      "Number of terms: 7\n",
      "Approx value: 0.5877852522974596\n",
      "Approx errror: 1.7446081526780443e-07 %\n",
      "\n"
     ]
    }
   ],
   "source": [
    "find_req_num_terms(maclaurin_cos, 0.3*math.pi, 8)"
   ]
  }
 ],
 "metadata": {
  "kernelspec": {
   "display_name": "sm",
   "language": "python",
   "name": "python3"
  },
  "language_info": {
   "codemirror_mode": {
    "name": "ipython",
    "version": 3
   },
   "file_extension": ".py",
   "mimetype": "text/x-python",
   "name": "python",
   "nbconvert_exporter": "python",
   "pygments_lexer": "ipython3",
   "version": "3.12.0"
  }
 },
 "nbformat": 4,
 "nbformat_minor": 2
}
