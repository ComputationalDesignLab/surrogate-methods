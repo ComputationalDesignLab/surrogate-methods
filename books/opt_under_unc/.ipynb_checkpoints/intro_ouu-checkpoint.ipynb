{
 "cells": [
  {
   "cell_type": "markdown",
   "id": "a27effb4-563d-4bc6-9144-85897ed60fe2",
   "metadata": {},
   "source": [
    "# Optimization under uncertainty\n",
    "\n",
    "While optimizing engineering systems, it is necessary to deal with the uncertainty present in these engineering systems. For example, manufacturing processes can create deviations from the design specifications and the operating conditions can vary from the ideal. This necessitates the need for optimization under uncertainty (OUU) which is the optimization of engineering systems in the presence of random parameters or design variables. This section will provide Python implementations of performing OUU based on the concepts that are covered in the lecture. There are two subsections in OUU which address the two primary challenges that designers face in OUU:\n",
    "\n",
    "1. Robust design: Finding a design with a performance that is minimally sensitive to uncertain conditions.\n",
    "2. Reliable design: Ensuring that the design does not fail under uncertainty or controlling the constraints' failure porbabilities. "
   ]
  },
  {
   "cell_type": "code",
   "execution_count": null,
   "id": "80072d45-8fcc-4e48-a7d9-4447dcd91203",
   "metadata": {},
   "outputs": [],
   "source": []
  }
 ],
 "metadata": {
  "kernelspec": {
   "display_name": "Python 3 (ipykernel)",
   "language": "python",
   "name": "python3"
  },
  "language_info": {
   "codemirror_mode": {
    "name": "ipython",
    "version": 3
   },
   "file_extension": ".py",
   "mimetype": "text/x-python",
   "name": "python",
   "nbconvert_exporter": "python",
   "pygments_lexer": "ipython3",
   "version": "3.9.19"
  }
 },
 "nbformat": 4,
 "nbformat_minor": 5
}
