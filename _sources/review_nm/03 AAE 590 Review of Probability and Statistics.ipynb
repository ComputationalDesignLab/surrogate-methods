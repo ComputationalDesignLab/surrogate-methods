{
 "cells": [
  {
   "cell_type": "markdown",
   "id": "2186559d",
   "metadata": {},
   "source": [
    "<h1 style=\"text-align: center;\">AAE 590 Surrogate Methods</h1>\n",
    "\n",
    "## Review of Probability and Statistics\n",
    "\n",
    "This notebook supports material covered in the class for probability and statistics. Uniform and Normal distributions are described here, along with how to use the distributions within `scipy.stats` module and compute pdf, cdf, etc. Following topics are covered here:\n",
    "\n",
    "1. [Uniform Distribution](#Uniform-Distribution)\n",
    "2. [Normal Distribution](#Normal-Distribution)\n",
    "3. [Bivariate Normal Distribution](#Bivariate-Normal-Distribution)\n",
    "\n",
    "There are various code blocks in between the text which provide python implementation for described task. You can run the code block and see the results. You can also change the value of various parameters and see how it changes the result.\n",
    "\n",
    "Please go through the notebook entirely and reach out to the teaching team if you have any doubts.\n",
    "\n",
    "You need to install **seaborn**. Activate the environment you created for this class in the anaconda prompt and install seaborn using `pip install seaborn`.\n",
    "\n",
    "<font color='red'>**Please run the below block of code before you run any other block**</font> - it imports all the packages needed for this notebook."
   ]
  },
  {
   "cell_type": "code",
   "execution_count": null,
   "id": "0851e5ac",
   "metadata": {},
   "outputs": [],
   "source": [
    "from scipy.stats import norm # Imports normal distribution\n",
    "from scipy.stats import uniform # Imports uniform distribution\n",
    "from scipy.stats import multivariate_normal # Imports multivariate normal distribution\n",
    "import matplotlib.pyplot as plt\n",
    "import numpy as np\n",
    "import seaborn as sns"
   ]
  },
  {
   "cell_type": "markdown",
   "id": "a7db9f89",
   "metadata": {},
   "source": [
    "### Uniform Distribution\n",
    "\n",
    "A continuous random variable $X$ is said to have a uniform distribution on the interval $[A, B]$ if the pdf of $X$ is:\n",
    "\n",
    "$$\n",
    "    f(x;A,B) = \n",
    "    \\begin{cases}\n",
    "        \\frac{1}{B-A} & A \\leq X \\leq B \\\\\n",
    "         0 & \\text{otherwise}\n",
    "    \\end{cases}\n",
    "$$\n",
    "\n",
    "This distribution essentially denotes that any value is equally likely between $A$ and $B$. The statement that $X$ has a uniform distribution on $[A, B]$ will be denoted by $X \\sim$ Unif $[A, B]$. Now, we will look at an example for this distribution.\n",
    "\n",
    "**Example**: Suppose the reaction temperature $X$ (in $^{\\circ}$C) in a chemical process has a uniform distribution with\n",
    "$A = -10$ and $B = 20$. Thus, pdf of $X$ will be:\n",
    "\n",
    "$$\n",
    "    f(x;A,B) = \n",
    "    \\begin{cases}\n",
    "        \\frac{1}{30} & -10 \\leq X \\leq 20 \\\\\n",
    "         0 & \\text{otherwise}\n",
    "    \\end{cases}\n",
    "$$\n",
    "\n",
    "Now, let's use `uniform` object within `scipy.stats` module to answer various questions related to this example. By default, `uniform` object will in standard form i.e. $A = 0$ and $B = 1$. So, we need to mention `loc` (which is A) and `scale` (which is B - A). Reading the [documentation](https://docs.scipy.org/doc/scipy/reference/generated/scipy.stats.uniform.html#scipy.stats.uniform) for uniform distribution implemented in scipy will help.\n",
    "\n",
    "**Question**: Compute mean, variance and standard deviation of this distribution.\n",
    "\n",
    "**Answer**: Once `uniform` object is imported (which you did when you ran the first block in this notebook), you can access various function related to the distribution. To compute the quantities, function within `uniform` object is used as shown in following block."
   ]
  },
  {
   "cell_type": "code",
   "execution_count": null,
   "id": "a326237d",
   "metadata": {},
   "outputs": [],
   "source": [
    "# Defining starting point and range of uniform distribution\n",
    "# loc = A\n",
    "# scale = B - A\n",
    "A = -10\n",
    "B = 20\n",
    "loc = A\n",
    "scale = B - A\n",
    "\n",
    "# Creating uniform distribution object with fixed location and scale parameters\n",
    "rv = uniform(loc=loc, scale=scale)\n",
    "\n",
    "# Compute mean of the distribution\n",
    "print(\"Mean for this distribution: {}\".format(rv.mean()))\n",
    "\n",
    "# Compute variance of the distribution\n",
    "print(\"Variance for this distribution: {}\".format(rv.var()))\n",
    "\n",
    "# Compute std-dev of the distribution\n",
    "print(\"Standard deviation for this distribution: {}\".format(rv.std()))"
   ]
  },
  {
   "cell_type": "markdown",
   "id": "e7ecb557",
   "metadata": {},
   "source": [
    "**Question**: Compute $P(X < 10).\n",
    "\n",
    "**Answer**: Here, $P(X < 10) = P(X \\leq 10) = F(10)$. So, we have to compute cdf for uniform distribution at $10$. You can do this as shown in following block:"
   ]
  },
  {
   "cell_type": "code",
   "execution_count": null,
   "id": "4d16dfba",
   "metadata": {},
   "outputs": [],
   "source": [
    "# P(X<0)\n",
    "rv.cdf(10)"
   ]
  },
  {
   "cell_type": "markdown",
   "id": "b056a668",
   "metadata": {},
   "source": [
    "**Question**: Compute $P(-5 < X < 5)$:\n",
    "\n",
    "**Answer**: Here, $P(-5 < X < 5) = P(-5 \\leq X \\leq 5) = F(5) - F(-5)$. So, we have to compute cdf for uniform distribution at $5$ and $-5$. You can do this calculating as shown in following block:"
   ]
  },
  {
   "cell_type": "code",
   "execution_count": null,
   "id": "68e658af",
   "metadata": {},
   "outputs": [],
   "source": [
    "# P(-10 < X < 25)\n",
    "rv.cdf(5) - rv.cdf(-5)"
   ]
  },
  {
   "cell_type": "markdown",
   "id": "c54c622b",
   "metadata": {},
   "source": [
    "**Question**: Plot cdf and pdf of the distribution.\n",
    "\n",
    "**Answer**: We can use the `rv` object created in previous block and compute value of pdf and cdf at a bunch of x values. Then, use `matplotlib` to plot them. Code in the following block executes this task."
   ]
  },
  {
   "cell_type": "code",
   "execution_count": null,
   "id": "e8a41e6b",
   "metadata": {},
   "outputs": [],
   "source": [
    "# Creating array of x values at which pdf and cdf will be computed while plotting\n",
    "x = np.linspace(-30, 30, 100)\n",
    "\n",
    "# Plotting PDF\n",
    "fig, ax = plt.subplots()\n",
    "ax.step(x, rv.pdf(x), where='post')\n",
    "ax.set_xlabel(\"$x$\")\n",
    "ax.set_ylabel(\"PDF\")\n",
    "ax.grid()\n",
    "plt.show()\n",
    "\n",
    "# Plotting CDF\n",
    "fig, ax = plt.subplots()\n",
    "ax.plot(x, rv.cdf(x))\n",
    "ax.set_xlabel(\"$x$\")\n",
    "ax.set_ylabel(\"CDF\")\n",
    "ax.grid()\n",
    "plt.show()"
   ]
  },
  {
   "cell_type": "markdown",
   "id": "1d63cc39",
   "metadata": {},
   "source": [
    "Now, we will look into *frequency interpretation* of probability. You can read more about it [here](https://online.stat.psu.edu/stat500/lesson/2/2.3). Below code plots the distribution of samples drawn from uniform distribution. Number of samples initially is set to 10 and with every iteration it increases by an order of magnitude. Run the below code block and see the plots."
   ]
  },
  {
   "cell_type": "code",
   "execution_count": null,
   "id": "c9872e23",
   "metadata": {
    "scrolled": true
   },
   "outputs": [],
   "source": [
    "# Some settings\n",
    "initial_samples = 10\n",
    "iter = 6\n",
    "\n",
    "for i in range(iter):\n",
    "    # Number of samples\n",
    "    samples = initial_samples*10**(i)\n",
    "\n",
    "    # Generate samples from the distribution\n",
    "    data = rv.rvs(size=samples)\n",
    "\n",
    "    # Plotting using seaborn\n",
    "    fig, ax = plt.subplots()\n",
    "    plot = sns.histplot(data, stat=\"density\", ax=ax)\n",
    "    ax.set_xlabel(\"x\")\n",
    "    ax.set_xlim([-20, 40])"
   ]
  },
  {
   "cell_type": "markdown",
   "id": "7c1a905c",
   "metadata": {},
   "source": [
    "Note that all the samples are between $A$ and $B$, and as the number of samples increase the density value approaches $1/30$ which is the theortical density value. You can play around with the value of `iter`, `initial_samples`, $A$, $B$ and see how distribution changes."
   ]
  },
  {
   "cell_type": "markdown",
   "id": "0e41e136",
   "metadata": {},
   "source": [
    "Normal Distribution\n",
    "-------\n",
    "\n",
    "A continuous random variable $X$ is said to have a normal distribution (or Gaussian distribution) with parameters $\\mu$ and $\\sigma$, where $-\\infty \\leq \\mu \\leq \\infty$ and $\\sigma > 0$, if the pdf of $X$ is \n",
    "\n",
    "$$\n",
    "    f(x;\\mu,\\sigma) = \\frac{1}{\\sigma \\sqrt{2\\pi}} e^{-\\frac{(x-\\mu)^2}{2\\sigma^2}} \\text{, where } -\\infty \\leq x \\leq \\infty\n",
    "$$\n",
    "\n",
    "The statement that $X$ is normally distributed with parameters $\\mu$ and $\\sigma$ is often abbreviated as $X \\sim \\mathcal{N}(\\mu,\\sigma)$. We will perform an exercise as we did with uniform distribution.\n",
    "\n",
    "**Example**: Suppose the force acting on a column that helps to support a building is a normally distributed random variable $X$ with mean value 9 N and standard deviation 1.5 N.\n",
    "\n",
    "Now, let's use `norm` object within `scipy.stats` module to answer various questions related to this example. Reading the [documentation](https://docs.scipy.org/doc/scipy/reference/generated/scipy.stats.norm.html#scipy.stats.norm) for normal distribution implemented in scipy will help.\n",
    "\n",
    "**Question**: Compute mean, variance, and standard deviation.\n",
    "\n",
    "**Answer**: This is very straight-forward since it is gaussian distribution, but just to demostrate, we will use `norm` object."
   ]
  },
  {
   "cell_type": "code",
   "execution_count": null,
   "id": "1d3387b0",
   "metadata": {},
   "outputs": [],
   "source": [
    "loc = 9 # mean\n",
    "scale = 1.5 # std dev\n",
    "\n",
    "# Creating normal distribution object with fixed mean and variance\n",
    "rv = norm(loc=loc, scale=scale)\n",
    "\n",
    "# Compute mean of the distribution\n",
    "print(\"Mean for this distribution: {}\".format(rv.mean()))\n",
    "\n",
    "# Compute variance of the distribution\n",
    "print(\"Variance for this distribution: {}\".format(rv.var()))\n",
    "\n",
    "# Compute std-dev of the distribution\n",
    "print(\"Standard deviation for this distribution: {}\".format(rv.std()))"
   ]
  },
  {
   "cell_type": "markdown",
   "id": "7fac4163",
   "metadata": {},
   "source": [
    "**Question**: Compute $P(X \\leq 8.8)$\n",
    "\n",
    "**Answer**: $P(X \\leq 8.8) = F(8.8)$. So, we need to compute cdf of normal distribution at 8.8. Following block of code shows how to do that:"
   ]
  },
  {
   "cell_type": "code",
   "execution_count": null,
   "id": "bea96c55",
   "metadata": {},
   "outputs": [],
   "source": [
    "# P(X <= 8.8)\n",
    "rv.cdf(8.8)"
   ]
  },
  {
   "cell_type": "markdown",
   "id": "49a0cacb",
   "metadata": {},
   "source": [
    "**Question**: Compute $P(X \\leq 11)$\n",
    "\n",
    "**Answer**: $P(X \\leq 11) = F(11)$. So, we need to compute cdf of normal distribution at 11. Following block of code shows how to do that:"
   ]
  },
  {
   "cell_type": "code",
   "execution_count": null,
   "id": "62970d56",
   "metadata": {},
   "outputs": [],
   "source": [
    "# P(X <= 11)\n",
    "rv.cdf(11)"
   ]
  },
  {
   "cell_type": "markdown",
   "id": "7e96fc9e",
   "metadata": {},
   "source": [
    "**Question**: Compute $P(X \\geq 7.5)$\n",
    "\n",
    "**Answer**: $P(X \\geq 7.5) = P(X > 7.5) = 1 - P(X \\leq 7.5) = 1 - F(7.5)$. So, we need to compute cdf of normal distribution at 7.5. Following block of code shows how to do that:"
   ]
  },
  {
   "cell_type": "code",
   "execution_count": null,
   "id": "cdb27543",
   "metadata": {},
   "outputs": [],
   "source": [
    "# P(X >= 7.5)\n",
    "1 - rv.cdf(7.5)"
   ]
  },
  {
   "cell_type": "markdown",
   "id": "a3e76e93",
   "metadata": {},
   "source": [
    "**Question**: Compute $P(9 \\leq X \\leq 10)$\n",
    "\n",
    "**Answer**: $P(9 \\leq X \\leq 10) = F(10) - F(9)$. So, we need to compute cdf of normal distribution at 9 and 10. Following block of code shows how to do that:"
   ]
  },
  {
   "cell_type": "code",
   "execution_count": null,
   "id": "5fba7cce",
   "metadata": {},
   "outputs": [],
   "source": [
    "# P(9 <= X <= 10)\n",
    "rv.cdf(10) - rv.cdf(9)"
   ]
  },
  {
   "cell_type": "markdown",
   "id": "dd13fc39",
   "metadata": {},
   "source": [
    "**Question**: Plot the pdf and cdf for this example.\n",
    "\n",
    "**Answer**: We can use the `rv` variable created in previous block and compute value of pdf and cdf at a bunch of x values. Then, use `matplotlib` to plot them. Code in the following block executes this task. Note that the `rv` variable contains normal distribution and not uniform distribution since it is defined in one of the previous blocks."
   ]
  },
  {
   "cell_type": "code",
   "execution_count": null,
   "id": "b6d194ea",
   "metadata": {},
   "outputs": [],
   "source": [
    "# Creating array of x values at which pdf and cdf will be computed while plotting\n",
    "x = np.linspace(4, 14, 200)\n",
    "\n",
    "# Plotting PDF\n",
    "fig, ax = plt.subplots()\n",
    "ax.plot(x, rv.pdf(x))\n",
    "ax.set_xlabel(\"$x$\")\n",
    "ax.set_ylabel(\"PDF\")\n",
    "ax.grid()\n",
    "plt.show()\n",
    "\n",
    "# Plotting CDF\n",
    "fig, ax = plt.subplots()\n",
    "ax.plot(x, rv.cdf(x))\n",
    "ax.set_xlabel(\"$x$\")\n",
    "ax.set_ylabel(\"CDF\")\n",
    "ax.grid()\n",
    "plt.show()"
   ]
  },
  {
   "cell_type": "markdown",
   "id": "109cc5c0",
   "metadata": {},
   "source": [
    "Similar to last case, we will look into frequency interpretation of probability. Below code plots the distribution of  randomly drawn samples as you increase the number of samples. Since the number of samples will be high, it might take some time to generate the plots."
   ]
  },
  {
   "cell_type": "code",
   "execution_count": 1,
   "id": "a7b22521",
   "metadata": {},
   "outputs": [
    {
     "ename": "NameError",
     "evalue": "name 'rv' is not defined",
     "output_type": "error",
     "traceback": [
      "\u001b[1;31m---------------------------------------------------------------------------\u001b[0m",
      "\u001b[1;31mNameError\u001b[0m                                 Traceback (most recent call last)",
      "Cell \u001b[1;32mIn[1], line 10\u001b[0m\n\u001b[0;32m      7\u001b[0m samples \u001b[38;5;241m=\u001b[39m initial_samples\u001b[38;5;241m*\u001b[39m\u001b[38;5;241m10\u001b[39m\u001b[38;5;241m*\u001b[39m\u001b[38;5;241m*\u001b[39m(i)\n\u001b[0;32m      9\u001b[0m \u001b[38;5;66;03m# Generate samples from the distribution\u001b[39;00m\n\u001b[1;32m---> 10\u001b[0m data \u001b[38;5;241m=\u001b[39m \u001b[43mrv\u001b[49m\u001b[38;5;241m.\u001b[39mrvs(size\u001b[38;5;241m=\u001b[39msamples)\n\u001b[0;32m     12\u001b[0m \u001b[38;5;66;03m# Plotting using seaborn\u001b[39;00m\n\u001b[0;32m     13\u001b[0m fig, ax \u001b[38;5;241m=\u001b[39m plt\u001b[38;5;241m.\u001b[39msubplots()\n",
      "\u001b[1;31mNameError\u001b[0m: name 'rv' is not defined"
     ]
    }
   ],
   "source": [
    "# Some parameters\n",
    "initial_samples = 10\n",
    "iter = 6\n",
    "\n",
    "for i in range(iter):\n",
    "    # Number of samples\n",
    "    samples = initial_samples*10**(i)\n",
    "\n",
    "    # Generate samples from the distribution\n",
    "    data = rv.rvs(size=samples)\n",
    "\n",
    "    # Plotting using seaborn\n",
    "    fig, ax = plt.subplots()\n",
    "    plot = sns.histplot(data, stat=\"density\", ax=ax, kde=True)\n",
    "    ax.set_xlabel(\"x\")\n",
    "    ax.set_xlim([3, 15])"
   ]
  },
  {
   "cell_type": "markdown",
   "id": "69329f4a",
   "metadata": {},
   "source": [
    "Similar to previous case, as the number of samples increase, the density curve approaches theortical normal density curve. You can play around with the value of iter, initial_samples, and see how distribution changes."
   ]
  },
  {
   "cell_type": "markdown",
   "id": "c0d8dade",
   "metadata": {},
   "source": [
    "Bivariate Normal Distribution\n",
    "-----\n",
    "\n",
    "It is a joint distribution in which the individual variables are normally distributed. Now, let's use `multivariate_normal` object within `scipy.stats` module to answer various questions related to this example. Reading the [documentation](https://docs.scipy.org/doc/scipy/reference/generated/scipy.stats.multivariate_normal.html#scipy.stats.multivariate_normal) for multivariate normal distribution implemented in scipy will help.\n",
    "\n",
    "**Example**: Consider the SAT exam score for a randomly selected student. Let $X$ and $Y$ denote the Critical Reading and Mathematics scores, respectively, for a randomly selected student. The population of students taking the exam in Fall 2012 had the following results:\n",
    "\n",
    "$$\n",
    "    \\mu_x = 490 \\text{, } \\sigma_x = 120 \\text{, } \\mu_y = 550 \\text{, } \\sigma_y = 60\n",
    "$$\n",
    "\n",
    "The correlation coefficient $\\rho$ is -0.25.\n",
    "\n",
    "**Question**: What is the probability that a randomly selected student scored at most 650 on critcial reading and mathematics score, i.e., what is $P(X \\leq 650 \\cap Y \\leq 650)$?\n",
    "\n",
    "**Answer**: The covariance matrix will be:\n",
    "\n",
    "$$\n",
    "    Cov(X,Y) = \\left[ { \\begin{array}{cc}\n",
    "        Var(X) & Cov(X,Y) \\\\ Cov(Y,X) & Var(Y)\n",
    "    \\end{array} } \\right]\n",
    "    =\n",
    "    \\left[ { \\begin{array}{cc}\n",
    "        \\sigma_x^2 & \\rho \\sigma_x \\sigma_y \\\\\n",
    "        \\rho \\sigma_x \\sigma_y & \\sigma_y^2\n",
    "    \\end{array} } \\right]\n",
    "$$\n",
    "\n",
    "The answer to the question is the multi-variate normal CDF evaluated at $X=650$ and $Y=650$."
   ]
  },
  {
   "cell_type": "code",
   "execution_count": null,
   "id": "dd4800a0",
   "metadata": {},
   "outputs": [],
   "source": [
    "# P(X <= 650, Y <= 650)\n",
    "\n",
    "# Defining individual mean and corelation coefficient\n",
    "mean_x = 490\n",
    "sigma_x = 120\n",
    "mean_y = 550\n",
    "sigma_y = 60\n",
    "rho = -0.5\n",
    "\n",
    "# Defining mean vector and covariance matrix\n",
    "mean = np.array([mean_x, mean_y])\n",
    "cov = np.array([[sigma_x**2, rho*sigma_x*sigma_y], [rho*sigma_x*sigma_y, sigma_y**2]])\n",
    "\n",
    "# Creating multivariate normal distribution object with fixed mean vector and covariance matrix\n",
    "rv = multivariate_normal(mean=mean, cov=cov)\n",
    "\n",
    "# Evaluation point\n",
    "x = np.array([650, 650])\n",
    "\n",
    "# Answer\n",
    "rv.cdf(x=x)"
   ]
  },
  {
   "cell_type": "markdown",
   "id": "74840494",
   "metadata": {},
   "source": [
    "Similar to last case, we will look into frequency interpretation of probability. Below code plots the distribution of randomly drawn samples as you increase the number of samples. **Note**: since the number of samples drawn is high, it will take some time to generate the plots."
   ]
  },
  {
   "cell_type": "code",
   "execution_count": null,
   "id": "3d1cf2e0",
   "metadata": {
    "scrolled": false
   },
   "outputs": [],
   "source": [
    "# Some parameters\n",
    "initial_samples = 10\n",
    "iter = 5\n",
    "\n",
    "for i in range(iter):\n",
    "    # Number of samples\n",
    "    samples = initial_samples*10**(i)\n",
    "    \n",
    "    # Generate samples from the distribution\n",
    "    data = rv.rvs(size=samples)\n",
    "    \n",
    "    # Plotting using seaborn\n",
    "    plot = sns.jointplot(x=data[:,0], y=data[:,1], kind=\"kde\", fill=True)"
   ]
  },
  {
   "cell_type": "markdown",
   "id": "e6143948",
   "metadata": {},
   "source": [
    "Contours depict the samples drawn from the distribution, top distribution shows $x$ samples and side distribution shows $y$ samples. Notice that as you increase the number of samples both the distributions approach theortical normal distribution around respective mean, contour plot becomes elliptical in shape, and the center of the contour plot approaches ($\\mu_x$, $\\mu_y$). Also, since the $\\rho$ is negative, the elliptical contour is tilted i.e. as $x$ value increases $y$ value decreases and vice versa. You can change the value of $\\mu_x$, $\\sigma_x$, $\\mu_y$, $\\sigma_y$, $\\rho$, and see how the plots and probability answers change."
   ]
  }
 ],
 "metadata": {
  "kernelspec": {
   "display_name": "Python 3 (ipykernel)",
   "language": "python",
   "name": "python3"
  },
  "language_info": {
   "codemirror_mode": {
    "name": "ipython",
    "version": 3
   },
   "file_extension": ".py",
   "mimetype": "text/x-python",
   "name": "python",
   "nbconvert_exporter": "python",
   "pygments_lexer": "ipython3",
   "version": "3.9.15"
  }
 },
 "nbformat": 4,
 "nbformat_minor": 5
}
