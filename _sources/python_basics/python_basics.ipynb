{
 "cells": [
  {
   "cell_type": "markdown",
   "metadata": {},
   "source": [
    "# Basic programming in Python and Jupyter Notebooks\n",
    "\n",
    "This is a tutorial on important Python libraries such as basic data types, Numpy, function definitions and creation of loops. \n",
    "\n",
    "In Python, the first step is always to import libraries that are will be relevant to the code that you will be writing. This usually forms the first few lines of a Python script and libraries can be imported using the `import` keyword. Sometimes you will also use the statement `from package import method`. This is a way to import a specific function from one of the packages. Packages can also be assigned aliases when importing them to make them easier to reference in the code. This can be done by using the import statement `import package as alias`. "
   ]
  },
  {
   "cell_type": "code",
   "execution_count": 42,
   "metadata": {},
   "outputs": [],
   "source": [
    "# Some standard import statements\n",
    "import math\n",
    "import scipy\n",
    "\n",
    "# Importing a specific function from a package\n",
    "from scipy.io import loadmat\n",
    "\n",
    "# Importing a package and assigning an alias to it\n",
    "import numpy as np\n",
    "import matplotlib.pyplot as plt\n",
    "# Now numpy functions can be accessed through np"
   ]
  },
  {
   "cell_type": "markdown",
   "metadata": {},
   "source": [
    "# Basic data types in Python\n",
    "\n",
    "There are a few ways to store data in Python that we will be using in this jupyter-book. Python uses all of the common data types such as integers, floating point numbers and strings. Some data types that are unique in Python and which we will be using in this jupyter-book are tuples, lists, and dictionaries. \n",
    "\n",
    "## Tuples\n",
    "\n",
    "Tuples are data types that are defined using round brackets () and the elements of tuples can be any other data type such as integers, floating point numbers or even other tuples. A tuple is an ordered collection of elements that cannot be changed i.e., you cannot modify a tuple once it is defined. "
   ]
  },
  {
   "cell_type": "code",
   "execution_count": 43,
   "metadata": {},
   "outputs": [
    {
     "name": "stdout",
     "output_type": "stream",
     "text": [
      "First element of atuple is: 0.5243\n"
     ]
    }
   ],
   "source": [
    "# Defining a tuple in Python\n",
    "atuple = (0.5243,\"python\",3)\n",
    "btuple = (1,2,3)\n",
    "\n",
    "print(\"First element of atuple is:\", atuple[0])"
   ]
  },
  {
   "cell_type": "code",
   "execution_count": 44,
   "metadata": {},
   "outputs": [
    {
     "name": "stdout",
     "output_type": "stream",
     "text": [
      "Second element of atuple is: python\n"
     ]
    }
   ],
   "source": [
    "print(\"Second element of atuple is:\", atuple[1])"
   ]
  },
  {
   "cell_type": "code",
   "execution_count": 45,
   "metadata": {},
   "outputs": [
    {
     "name": "stdout",
     "output_type": "stream",
     "text": [
      "Number of elements in atuple: 3\n"
     ]
    }
   ],
   "source": [
    "# Printing number of elements in the list\n",
    "elements = len(atuple)\n",
    "print(\"Number of elements in atuple:\", elements)"
   ]
  },
  {
   "cell_type": "code",
   "execution_count": 46,
   "metadata": {},
   "outputs": [
    {
     "ename": "TypeError",
     "evalue": "'tuple' object does not support item assignment",
     "output_type": "error",
     "traceback": [
      "\u001b[0;31m---------------------------------------------------------------------------\u001b[0m",
      "\u001b[0;31mTypeError\u001b[0m                                 Traceback (most recent call last)",
      "Cell \u001b[0;32mIn[46], line 2\u001b[0m\n\u001b[1;32m      1\u001b[0m \u001b[38;5;66;03m# Tuples cannot be changed\u001b[39;00m\n\u001b[0;32m----> 2\u001b[0m \u001b[43matuple\u001b[49m\u001b[43m[\u001b[49m\u001b[38;5;241;43m0\u001b[39;49m\u001b[43m]\u001b[49m \u001b[38;5;241m=\u001b[39m \u001b[38;5;241m0\u001b[39m \u001b[38;5;66;03m# This will give an error\u001b[39;00m\n",
      "\u001b[0;31mTypeError\u001b[0m: 'tuple' object does not support item assignment"
     ]
    }
   ],
   "source": [
    "# Tuples cannot be changed\n",
    "atuple[0] = 0 # This will give an error"
   ]
  },
  {
   "cell_type": "markdown",
   "metadata": {},
   "source": [
    "## Lists \n",
    "\n",
    "Lists are also collections of any other data type of Python. However, the difference between lists and tuples is that lists can be modified i.e., elements can be changed or removed and new elements can be added. "
   ]
  },
  {
   "cell_type": "code",
   "execution_count": 47,
   "metadata": {},
   "outputs": [
    {
     "name": "stdout",
     "output_type": "stream",
     "text": [
      "Last element of list: 3\n"
     ]
    }
   ],
   "source": [
    "# Consider the following list and associated operations\n",
    "alist = [1,\"python\",3]\n",
    "\n",
    "last = alist[-1]\n",
    "print(\"Last element of list:\", last)"
   ]
  },
  {
   "cell_type": "code",
   "execution_count": 48,
   "metadata": {},
   "outputs": [
    {
     "name": "stdout",
     "output_type": "stream",
     "text": [
      "New list: [0, 'python', 3]\n"
     ]
    }
   ],
   "source": [
    "alist[0] = 0 # Modifying the first element of the list\n",
    "print(\"New list:\", alist)"
   ]
  },
  {
   "cell_type": "code",
   "execution_count": 49,
   "metadata": {},
   "outputs": [
    {
     "name": "stdout",
     "output_type": "stream",
     "text": [
      "Modified list: [0, 'python', 3, [1, 2, 3]]\n"
     ]
    }
   ],
   "source": [
    "added_element = [1,2,3]\n",
    "alist.append(added_element)\n",
    "print(\"Modified list:\", alist)"
   ]
  },
  {
   "cell_type": "code",
   "execution_count": 50,
   "metadata": {},
   "outputs": [
    {
     "name": "stdout",
     "output_type": "stream",
     "text": [
      "Number of elements in the list: 4\n"
     ]
    }
   ],
   "source": [
    "print(\"Number of elements in the list:\", len(alist))"
   ]
  },
  {
   "cell_type": "markdown",
   "metadata": {},
   "source": [
    "## Dictionaries\n",
    "\n",
    "Dictionaries are data structures within Python that store data in key: value pairs. The values or data can be accessed using the keys and the data can be any other data type of Python. The keys must be unique and cannot be changed once defined. The associated values can be changed after the dictionary is defined. "
   ]
  },
  {
   "cell_type": "code",
   "execution_count": 51,
   "metadata": {},
   "outputs": [
    {
     "name": "stdout",
     "output_type": "stream",
     "text": [
      "First element of dictionary: python\n",
      "Value associated with array: [1 2 3]\n"
     ]
    }
   ],
   "source": [
    "# Consider the following dictionary and associated operations\n",
    "dictionary = {1: \"python\", \"array\": np.array([1,2,3]), 3: [1,4,5]}\n",
    "\n",
    "# Some operations on the dictionary\n",
    "print(\"First element of dictionary:\", dictionary[1])\n",
    "print(\"Value associated with array:\", dictionary[\"array\"])"
   ]
  },
  {
   "cell_type": "code",
   "execution_count": 52,
   "metadata": {},
   "outputs": [
    {
     "name": "stdout",
     "output_type": "stream",
     "text": [
      "Modified dictionary: {1: 'python', 'array': array([1, 2, 3]), 3: [2, 4, 6]}\n"
     ]
    }
   ],
   "source": [
    "dictionary[3] = [2,4,6] # Modifying an element of the dictionary\n",
    "print(\"Modified dictionary:\", dictionary)"
   ]
  },
  {
   "cell_type": "code",
   "execution_count": 53,
   "metadata": {},
   "outputs": [
    {
     "name": "stdout",
     "output_type": "stream",
     "text": [
      "Dictionary with new key:value pair: {1: 'python', 'array': array([1, 2, 3]), 3: [2, 4, 6], 'fruit': 'apple'}\n"
     ]
    }
   ],
   "source": [
    "# Adding a new element to a dictionary\n",
    "dictionary[\"fruit\"] = \"apple\"\n",
    "print(\"Dictionary with new key:value pair:\", dictionary) "
   ]
  },
  {
   "cell_type": "markdown",
   "metadata": {},
   "source": [
    "# Numpy library\n",
    "\n",
    "A library for scientific computation in Python which is very similar to MATLAB. The basic unit for computation in Numpy is a numpy array (also called an ndarray) which is the analogue of an array used in MATLAB. We will be using this library in almost every section of the jupyter-book."
   ]
  },
  {
   "cell_type": "code",
   "execution_count": 54,
   "metadata": {},
   "outputs": [
    {
     "name": "stdout",
     "output_type": "stream",
     "text": [
      "1D array: [1 2 3]\n",
      "2D array: [[1 2]\n",
      " [3 4]]\n"
     ]
    }
   ],
   "source": [
    "# Defining a numpy array\n",
    "# import numpy as np\n",
    "# library_name.method_name to access the method\n",
    "a = np.array([1,2,3]) # equivalent to MATLAB a = [1,2,3];\n",
    "print('1D array:', a)\n",
    "\n",
    "b = np.array([[1,2], [3,4]]) # equivalent to MATLAB b = [1, 2 ; 3, 4]\n",
    "print('2D array:', b)"
   ]
  },
  {
   "cell_type": "code",
   "execution_count": 55,
   "metadata": {},
   "outputs": [
    {
     "name": "stdout",
     "output_type": "stream",
     "text": [
      "Dimension of array: 2\n"
     ]
    }
   ],
   "source": [
    "# Useful information about the array can also be accessed as follows\n",
    "print(\"Dimension of array:\", b.ndim)"
   ]
  },
  {
   "cell_type": "code",
   "execution_count": 56,
   "metadata": {},
   "outputs": [
    {
     "name": "stdout",
     "output_type": "stream",
     "text": [
      "Shape of 2D array: (2, 2) , Shape of 1D array: (3,)\n"
     ]
    }
   ],
   "source": [
    "print(\"Shape of 2D array:\", b.shape, \", Shape of 1D array:\", a.shape) # Think of this as matrix dimensions or vector length if 1D"
   ]
  },
  {
   "cell_type": "code",
   "execution_count": 57,
   "metadata": {},
   "outputs": [
    {
     "name": "stdout",
     "output_type": "stream",
     "text": [
      "Number of elements in 1D array: 3\n"
     ]
    }
   ],
   "source": [
    "print(\"Number of elements in 1D array:\", a.size)"
   ]
  },
  {
   "cell_type": "code",
   "execution_count": 58,
   "metadata": {},
   "outputs": [
    {
     "name": "stdout",
     "output_type": "stream",
     "text": [
      "2D array of zeros: [[0. 0.]\n",
      " [0. 0.]\n",
      " [0. 0.]]\n",
      "1D array of ones: [1. 1. 1. 1. 1. 1. 1. 1. 1. 1.]\n"
     ]
    }
   ],
   "source": [
    "# Some standard arrays can also be defined using a standard Numpy statement\n",
    "zero_array = np.zeros((3,2)) # The numbers in the bracket indicate the shape and size of the array needed\n",
    "print(\"2D array of zeros:\", zero_array)\n",
    "\n",
    "ones_array = np.ones(10)\n",
    "print(\"1D array of ones:\", ones_array)"
   ]
  },
  {
   "cell_type": "code",
   "execution_count": 59,
   "metadata": {},
   "outputs": [
    {
     "name": "stdout",
     "output_type": "stream",
     "text": [
      "Linearly spaced array: [0.   0.25 0.5  0.75 1.  ]\n"
     ]
    }
   ],
   "source": [
    "# Creating a evenly spaced array very similar to linspace in MATLAB\n",
    "linear_array = np.linspace(0, 1, 5)\n",
    "print(\"Linearly spaced array:\", linear_array)"
   ]
  },
  {
   "cell_type": "markdown",
   "metadata": {},
   "source": [
    "Next, we can take a look at how to index Numpy arrays to access particular elements of the array. This indexing is the same as the indexing used for lists and tuples."
   ]
  },
  {
   "cell_type": "code",
   "execution_count": 60,
   "metadata": {},
   "outputs": [
    {
     "name": "stdout",
     "output_type": "stream",
     "text": [
      "First element of a: 1\n",
      "Last element of a: 3\n"
     ]
    }
   ],
   "source": [
    "# Indexing the 1D array\n",
    "print(\"First element of a:\", a[0])\n",
    "print(\"Last element of a:\", a[-1]) # this is similar to using end in MATLAB to access the last element"
   ]
  },
  {
   "cell_type": "code",
   "execution_count": 61,
   "metadata": {},
   "outputs": [
    {
     "name": "stdout",
     "output_type": "stream",
     "text": [
      "Element of b in first row and first column: 1\n"
     ]
    }
   ],
   "source": [
    "# Indexing a 2D array\n",
    "print(\"Element of b in first row and first column:\", b[0,0])"
   ]
  },
  {
   "cell_type": "markdown",
   "metadata": {},
   "source": [
    "Another important aspect of working with Numpy arrays is reshaping the arrays in case that is needed for using the arrays with other libraries. "
   ]
  },
  {
   "cell_type": "code",
   "execution_count": 62,
   "metadata": {},
   "outputs": [
    {
     "name": "stdout",
     "output_type": "stream",
     "text": [
      "Shape of a: (3,)\n",
      "First shape element of a: 3\n",
      "Last shape element of a: 3\n"
     ]
    }
   ],
   "source": [
    "# Consider reshaping 1D array 'a' from a shape (3,) to shape (1,3) or (3,1)\n",
    "print(\"Shape of a:\", a.shape)\n",
    "\n",
    "# The shape is a tuple data type with individual elements that can be accessed\n",
    "print(\"First shape element of a:\", a.shape[0])\n",
    "print(\"Last shape element of a:\", a.shape[-1])"
   ]
  },
  {
   "cell_type": "code",
   "execution_count": 63,
   "metadata": {},
   "outputs": [
    {
     "name": "stdout",
     "output_type": "stream",
     "text": [
      "New shape of a: (1, 3)\n",
      "New shape of a: (3, 1)\n"
     ]
    }
   ],
   "source": [
    "a = a.reshape(1,-1)\n",
    "print(\"New shape of a:\", a.shape)\n",
    "a = a.reshape(-1,1)\n",
    "print(\"New shape of a:\", a.shape)"
   ]
  },
  {
   "cell_type": "code",
   "execution_count": 64,
   "metadata": {},
   "outputs": [
    {
     "name": "stdout",
     "output_type": "stream",
     "text": [
      "Shape of b: (2, 2)\n",
      "New shape of b: (1, 4)\n"
     ]
    }
   ],
   "source": [
    "# Reshaping 2D array 'b' from shape (2,2) to shape (1,4)\n",
    "print(\"Shape of b:\", b.shape)\n",
    "b = b.reshape(1,4)\n",
    "print(\"New shape of b:\", b.shape)"
   ]
  },
  {
   "cell_type": "code",
   "execution_count": 65,
   "metadata": {},
   "outputs": [
    {
     "ename": "ValueError",
     "evalue": "cannot reshape array of size 4 into shape (1,5)",
     "output_type": "error",
     "traceback": [
      "\u001b[0;31m---------------------------------------------------------------------------\u001b[0m",
      "\u001b[0;31mValueError\u001b[0m                                Traceback (most recent call last)",
      "Cell \u001b[0;32mIn[65], line 1\u001b[0m\n\u001b[0;32m----> 1\u001b[0m b \u001b[38;5;241m=\u001b[39m \u001b[43mb\u001b[49m\u001b[38;5;241;43m.\u001b[39;49m\u001b[43mreshape\u001b[49m\u001b[43m(\u001b[49m\u001b[38;5;241;43m1\u001b[39;49m\u001b[43m,\u001b[49m\u001b[38;5;241;43m5\u001b[39;49m\u001b[43m)\u001b[49m \u001b[38;5;66;03m# This will give an error because there are only 4 elements in b\u001b[39;00m\n",
      "\u001b[0;31mValueError\u001b[0m: cannot reshape array of size 4 into shape (1,5)"
     ]
    }
   ],
   "source": [
    "b = b.reshape(1,5) # This will give an error because there are only 4 elements in b"
   ]
  },
  {
   "cell_type": "markdown",
   "metadata": {},
   "source": [
    "# If statements\n",
    "\n",
    "An \"if statement\" in Python is written using the `if` keyword. The \"if statement\" evaluates the written Python statements only if a condition is true. A few examples of \"if statements\" are shown below."
   ]
  },
  {
   "cell_type": "code",
   "execution_count": 66,
   "metadata": {},
   "outputs": [
    {
     "name": "stdout",
     "output_type": "stream",
     "text": [
      "a is less than b\n"
     ]
    }
   ],
   "source": [
    "a = 1\n",
    "b = 2\n",
    "if a < b:\n",
    "    print(\"a is less than b\")\n",
    "else:\n",
    "    print(\"a is greater than b\")"
   ]
  },
  {
   "cell_type": "code",
   "execution_count": 67,
   "metadata": {},
   "outputs": [
    {
     "name": "stdout",
     "output_type": "stream",
     "text": [
      "a is not equal to b\n"
     ]
    }
   ],
   "source": [
    "a = 5\n",
    "b = 6\n",
    "if a == b:\n",
    "    print(\"a is equal to b\")\n",
    "elif a != b:\n",
    "    print(\"a is not equal to b\")"
   ]
  },
  {
   "cell_type": "code",
   "execution_count": 68,
   "metadata": {},
   "outputs": [
    {
     "name": "stdout",
     "output_type": "stream",
     "text": [
      "The variable is true\n"
     ]
    }
   ],
   "source": [
    "# Boolean variables can also be used to write if statements\n",
    "var = True\n",
    "if var:\n",
    "    print(\"The variable is true\")"
   ]
  },
  {
   "cell_type": "markdown",
   "metadata": {},
   "source": [
    "# For loops\n",
    "\n",
    "A `for` loop is used to iterate over a sequence of items defined by a data type such as a list, tuple or array. The loop contains a set of statements that perform operations on each element present in the iterable data type such as lists.\n",
    "\n",
    "One important method for defining `for` loops in Python, especially in the case of iterating through a list of integers, is the `range` function. Using `range(n)` defines an iterable list of integers starting from 0 and ending at n-1 which can be used within the statements of the `for` loop. The start, end and increment of the list of integers can also be specified in the `range` function. For example, to generate a list of numbers starting at 2, ending at 6 with an increment of 2 can be written as `range(2,8,2)`. Here, the actual end mentioned in the statement will not be included in the list so the list will stop at 6 and not at 8. "
   ]
  },
  {
   "cell_type": "code",
   "execution_count": 69,
   "metadata": {},
   "outputs": [
    {
     "name": "stdout",
     "output_type": "stream",
     "text": [
      "Cessna\n",
      "Boeing 787\n",
      "Airbus A380\n",
      "Boeing 777\n"
     ]
    }
   ],
   "source": [
    "# Iterating over a list using a for loop\n",
    "aircraft = [\"Cessna\", \"Boeing 787\", \"Airbus A380\", \"Boeing 777\"]\n",
    "for name in aircraft:\n",
    "    print(name)"
   ]
  },
  {
   "cell_type": "code",
   "execution_count": 70,
   "metadata": {},
   "outputs": [
    {
     "name": "stdout",
     "output_type": "stream",
     "text": [
      "0\n",
      "1\n",
      "2\n",
      "3\n",
      "4\n"
     ]
    }
   ],
   "source": [
    "# Iterating over integers using the range function\n",
    "for i in range(5):\n",
    "    print(i)"
   ]
  },
  {
   "cell_type": "markdown",
   "metadata": {},
   "source": [
    "# While loops\n",
    "\n",
    "The `while` loop can be used to execute a set of statements as long as a given condition is true. This condition can be defined using standard boolean operations and statements. "
   ]
  },
  {
   "cell_type": "code",
   "execution_count": 71,
   "metadata": {},
   "outputs": [
    {
     "name": "stdout",
     "output_type": "stream",
     "text": [
      "0\n",
      "1\n",
      "2\n",
      "3\n",
      "4\n",
      "5\n"
     ]
    }
   ],
   "source": [
    "# Simple while loop to print numbers\n",
    "i = 0\n",
    "while i < 6:\n",
    "    print(i)\n",
    "    i += 1"
   ]
  },
  {
   "cell_type": "code",
   "execution_count": 72,
   "metadata": {},
   "outputs": [
    {
     "name": "stdout",
     "output_type": "stream",
     "text": [
      "Sum of first five integers: 15\n"
     ]
    }
   ],
   "source": [
    "# Simple while loop to find sum of first five integers\n",
    "sum = 0\n",
    "i = 1\n",
    "while i < 6:\n",
    "    sum += i\n",
    "    i += 1\n",
    "print(\"Sum of first five integers:\", sum)"
   ]
  },
  {
   "cell_type": "markdown",
   "metadata": {},
   "source": [
    "# Defining functions in Python\n",
    "\n",
    "Functions are a very important part of every programming language since we are able to define smaller and resuable blocks of code that can be incorporated in larger and more complicated programs. You can pass parameters to a function as an input and the function can return data as an output. A function is defined using the `def` keyword in Python. \n",
    "\n",
    "In the example below, we will write a set of Python functions to calculate the derivate of the function \n",
    "\n",
    "$$\n",
    "    f(x) = -0.1x^{4} - 0.15x^{3} - 0.5x^{2} - 0.25x + 1.25\n",
    "$$\n",
    "\n",
    "at $x = 0.5$ using a step size $h = 0.5$ and central differencing. We will compare the numerical approximation with the true derivative of the function. \n",
    "\n",
    "To measure the difference between the true derivative and the approximation of the central difference, we will use the relative error which can be expressed as:\n",
    "\n",
    "$$\\text{Relative Error} = \\frac{\\text{true value} - \\text{approximation}}{\\text{true value}}$$\n",
    "\n",
    "This will also be covered in more detail in the section on review of numerical methods of this jupyter-book."
   ]
  },
  {
   "cell_type": "code",
   "execution_count": 73,
   "metadata": {},
   "outputs": [],
   "source": [
    "def true_function(x):\n",
    "    \"\"\"\n",
    "        Function which returns value of desired function at input x.\n",
    "    \"\"\"\n",
    "    value = -0.1*x**4 - 0.15*x**3 - 0.5*x**2 - 0.25*x + 1.25\n",
    "\n",
    "    return value\n",
    "\n",
    "def true_derivative(x):\n",
    "    \"\"\"\n",
    "        Returns true derivative of function at input x.\n",
    "    \"\"\"\n",
    "    value = -0.4*x**3 - 0.45*x**2 - x - 0.25\n",
    "\n",
    "    return value \n",
    "\n",
    "def central_diff(x,h,func):\n",
    "    \"\"\"\n",
    "        Function for computing central difference.\n",
    "        Input:\n",
    "        x - input at which derivative is desired\n",
    "        h - step size\n",
    "        func - python function which should return function value based on x.\n",
    "    \"\"\"\n",
    "    slope = (func(x+h) - func(x-h)) /2/h\n",
    "    \n",
    "    return slope"
   ]
  },
  {
   "cell_type": "code",
   "execution_count": 74,
   "metadata": {},
   "outputs": [
    {
     "name": "stdout",
     "output_type": "stream",
     "text": [
      "True value: -0.9125\n",
      "\n",
      "Central difference:\n",
      "Approx value: -1.0\n",
      "Relative error: -0.09589041095890413\n"
     ]
    }
   ],
   "source": [
    "# Few vairables\n",
    "x = 0.5\n",
    "h = 0.5\n",
    "\n",
    "# True value\n",
    "true_value = true_derivative(x)\n",
    "print(\"True value: {}\\n\".format(true_value))\n",
    "\n",
    "# Central difference\n",
    "approx_value = central_diff(x,h,true_function)\n",
    "print(\"Central difference:\")\n",
    "print(\"Approx value: {}\".format(approx_value))\n",
    "print(\"Relative error: {}\".format((true_value - approx_value)/true_value))"
   ]
  }
 ],
 "metadata": {
  "kernelspec": {
   "display_name": "sm",
   "language": "python",
   "name": "python3"
  },
  "language_info": {
   "codemirror_mode": {
    "name": "ipython",
    "version": 3
   },
   "file_extension": ".py",
   "mimetype": "text/x-python",
   "name": "python",
   "nbconvert_exporter": "python",
   "pygments_lexer": "ipython3",
   "version": "3.9.18"
  }
 },
 "nbformat": 4,
 "nbformat_minor": 4
}
